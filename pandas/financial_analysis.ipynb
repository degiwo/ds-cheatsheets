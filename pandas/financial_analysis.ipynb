{
 "cells": [
  {
   "cell_type": "markdown",
   "metadata": {},
   "source": [
    "# Financial Analysis"
   ]
  },
  {
   "cell_type": "code",
   "execution_count": 5,
   "metadata": {},
   "outputs": [],
   "source": [
    "import stock_analysis\n",
    "from stock_analysis.utils import concatenate_stock_data"
   ]
  },
  {
   "cell_type": "code",
   "execution_count": 2,
   "metadata": {},
   "outputs": [],
   "source": [
    "startdate = \"20200101\"\n",
    "enddate = \"20201231\"\n",
    "stocks = [\"GOOG\", \"AAPL\"]"
   ]
  },
  {
   "cell_type": "code",
   "execution_count": 3,
   "metadata": {},
   "outputs": [],
   "source": [
    "reader = stock_analysis.StockReader(startdate, enddate)\n",
    "stock_goog, stock_aapl = (reader.get_ticker_data(stock) for stock in stocks)"
   ]
  },
  {
   "cell_type": "markdown",
   "metadata": {},
   "source": [
    "## Exploratory Data Analysis"
   ]
  },
  {
   "cell_type": "code",
   "execution_count": 10,
   "metadata": {},
   "outputs": [
    {
     "data": {
      "text/html": [
       "<div>\n",
       "<style scoped>\n",
       "    .dataframe tbody tr th:only-of-type {\n",
       "        vertical-align: middle;\n",
       "    }\n",
       "\n",
       "    .dataframe tbody tr th {\n",
       "        vertical-align: top;\n",
       "    }\n",
       "\n",
       "    .dataframe thead th {\n",
       "        text-align: right;\n",
       "    }\n",
       "</style>\n",
       "<table border=\"1\" class=\"dataframe\">\n",
       "  <thead>\n",
       "    <tr style=\"text-align: right;\">\n",
       "      <th></th>\n",
       "      <th>High</th>\n",
       "      <th>Low</th>\n",
       "      <th>Open</th>\n",
       "      <th>Close</th>\n",
       "      <th>Volume</th>\n",
       "      <th>Adj Close</th>\n",
       "      <th>name</th>\n",
       "    </tr>\n",
       "    <tr>\n",
       "      <th>Date</th>\n",
       "      <th></th>\n",
       "      <th></th>\n",
       "      <th></th>\n",
       "      <th></th>\n",
       "      <th></th>\n",
       "      <th></th>\n",
       "      <th></th>\n",
       "    </tr>\n",
       "  </thead>\n",
       "  <tbody>\n",
       "    <tr>\n",
       "      <th>2020-01-02</th>\n",
       "      <td>1368.140015</td>\n",
       "      <td>1341.550049</td>\n",
       "      <td>1341.550049</td>\n",
       "      <td>1367.369995</td>\n",
       "      <td>1406600.0</td>\n",
       "      <td>1367.369995</td>\n",
       "      <td>Google</td>\n",
       "    </tr>\n",
       "    <tr>\n",
       "      <th>2020-01-03</th>\n",
       "      <td>1372.500000</td>\n",
       "      <td>1345.543945</td>\n",
       "      <td>1347.859985</td>\n",
       "      <td>1360.660034</td>\n",
       "      <td>1186400.0</td>\n",
       "      <td>1360.660034</td>\n",
       "      <td>Google</td>\n",
       "    </tr>\n",
       "    <tr>\n",
       "      <th>2020-01-06</th>\n",
       "      <td>1396.500000</td>\n",
       "      <td>1350.000000</td>\n",
       "      <td>1350.000000</td>\n",
       "      <td>1394.209961</td>\n",
       "      <td>1732300.0</td>\n",
       "      <td>1394.209961</td>\n",
       "      <td>Google</td>\n",
       "    </tr>\n",
       "    <tr>\n",
       "      <th>2020-01-07</th>\n",
       "      <td>1402.989990</td>\n",
       "      <td>1390.380005</td>\n",
       "      <td>1397.939941</td>\n",
       "      <td>1393.339966</td>\n",
       "      <td>1502700.0</td>\n",
       "      <td>1393.339966</td>\n",
       "      <td>Google</td>\n",
       "    </tr>\n",
       "    <tr>\n",
       "      <th>2020-01-08</th>\n",
       "      <td>1411.579956</td>\n",
       "      <td>1390.839966</td>\n",
       "      <td>1392.079956</td>\n",
       "      <td>1404.319946</td>\n",
       "      <td>1528000.0</td>\n",
       "      <td>1404.319946</td>\n",
       "      <td>Google</td>\n",
       "    </tr>\n",
       "  </tbody>\n",
       "</table>\n",
       "</div>"
      ],
      "text/plain": [
       "                   High          Low         Open        Close     Volume  \\\n",
       "Date                                                                        \n",
       "2020-01-02  1368.140015  1341.550049  1341.550049  1367.369995  1406600.0   \n",
       "2020-01-03  1372.500000  1345.543945  1347.859985  1360.660034  1186400.0   \n",
       "2020-01-06  1396.500000  1350.000000  1350.000000  1394.209961  1732300.0   \n",
       "2020-01-07  1402.989990  1390.380005  1397.939941  1393.339966  1502700.0   \n",
       "2020-01-08  1411.579956  1390.839966  1392.079956  1404.319946  1528000.0   \n",
       "\n",
       "              Adj Close    name  \n",
       "Date                             \n",
       "2020-01-02  1367.369995  Google  \n",
       "2020-01-03  1360.660034  Google  \n",
       "2020-01-06  1394.209961  Google  \n",
       "2020-01-07  1393.339966  Google  \n",
       "2020-01-08  1404.319946  Google  "
      ]
     },
     "execution_count": 10,
     "metadata": {},
     "output_type": "execute_result"
    }
   ],
   "source": [
    "stock_all = concatenate_stock_data({\"Google\": stock_goog, \"Apple\": stock_aapl})\n",
    "stock_all.head()"
   ]
  }
 ],
 "metadata": {
  "interpreter": {
   "hash": "998c3c488f80010f461fa31602b042863d84dfca819ff9aa214d57495627a343"
  },
  "kernelspec": {
   "display_name": "Python 3.8.9 64-bit ('venv': venv)",
   "language": "python",
   "name": "python3"
  },
  "language_info": {
   "codemirror_mode": {
    "name": "ipython",
    "version": 3
   },
   "file_extension": ".py",
   "mimetype": "text/x-python",
   "name": "python",
   "nbconvert_exporter": "python",
   "pygments_lexer": "ipython3",
   "version": "3.8.9"
  },
  "orig_nbformat": 4
 },
 "nbformat": 4,
 "nbformat_minor": 2
}
